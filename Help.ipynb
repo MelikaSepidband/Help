{
 "cells": [
  {
   "cell_type": "markdown",
   "id": "843585a0",
   "metadata": {},
   "source": [
    "# Part 1"
   ]
  },
  {
   "cell_type": "code",
   "execution_count": 24,
   "id": "897e8966",
   "metadata": {},
   "outputs": [
    {
     "data": {
      "text/html": [
       "<div>\n",
       "<style scoped>\n",
       "    .dataframe tbody tr th:only-of-type {\n",
       "        vertical-align: middle;\n",
       "    }\n",
       "\n",
       "    .dataframe tbody tr th {\n",
       "        vertical-align: top;\n",
       "    }\n",
       "\n",
       "    .dataframe thead th {\n",
       "        text-align: right;\n",
       "    }\n",
       "</style>\n",
       "<table border=\"1\" class=\"dataframe\">\n",
       "  <thead>\n",
       "    <tr style=\"text-align: right;\">\n",
       "      <th></th>\n",
       "      <th>country</th>\n",
       "      <th>child_mort</th>\n",
       "      <th>exports</th>\n",
       "      <th>health</th>\n",
       "      <th>imports</th>\n",
       "      <th>income</th>\n",
       "      <th>inflation</th>\n",
       "      <th>life_expec</th>\n",
       "      <th>total_fer</th>\n",
       "      <th>gdpp</th>\n",
       "    </tr>\n",
       "  </thead>\n",
       "  <tbody>\n",
       "    <tr>\n",
       "      <th>0</th>\n",
       "      <td>Afghanistan</td>\n",
       "      <td>90.2</td>\n",
       "      <td>10.0</td>\n",
       "      <td>7.58</td>\n",
       "      <td>44.9</td>\n",
       "      <td>1610</td>\n",
       "      <td>9.44</td>\n",
       "      <td>56.2</td>\n",
       "      <td>5.82</td>\n",
       "      <td>553</td>\n",
       "    </tr>\n",
       "    <tr>\n",
       "      <th>1</th>\n",
       "      <td>Albania</td>\n",
       "      <td>16.6</td>\n",
       "      <td>28.0</td>\n",
       "      <td>6.55</td>\n",
       "      <td>48.6</td>\n",
       "      <td>9930</td>\n",
       "      <td>4.49</td>\n",
       "      <td>76.3</td>\n",
       "      <td>1.65</td>\n",
       "      <td>4090</td>\n",
       "    </tr>\n",
       "    <tr>\n",
       "      <th>2</th>\n",
       "      <td>Algeria</td>\n",
       "      <td>27.3</td>\n",
       "      <td>38.4</td>\n",
       "      <td>4.17</td>\n",
       "      <td>31.4</td>\n",
       "      <td>12900</td>\n",
       "      <td>16.10</td>\n",
       "      <td>76.5</td>\n",
       "      <td>2.89</td>\n",
       "      <td>4460</td>\n",
       "    </tr>\n",
       "    <tr>\n",
       "      <th>3</th>\n",
       "      <td>Angola</td>\n",
       "      <td>119.0</td>\n",
       "      <td>62.3</td>\n",
       "      <td>2.85</td>\n",
       "      <td>42.9</td>\n",
       "      <td>5900</td>\n",
       "      <td>22.40</td>\n",
       "      <td>60.1</td>\n",
       "      <td>6.16</td>\n",
       "      <td>3530</td>\n",
       "    </tr>\n",
       "    <tr>\n",
       "      <th>4</th>\n",
       "      <td>Antigua and Barbuda</td>\n",
       "      <td>10.3</td>\n",
       "      <td>45.5</td>\n",
       "      <td>6.03</td>\n",
       "      <td>58.9</td>\n",
       "      <td>19100</td>\n",
       "      <td>1.44</td>\n",
       "      <td>76.8</td>\n",
       "      <td>2.13</td>\n",
       "      <td>12200</td>\n",
       "    </tr>\n",
       "    <tr>\n",
       "      <th>...</th>\n",
       "      <td>...</td>\n",
       "      <td>...</td>\n",
       "      <td>...</td>\n",
       "      <td>...</td>\n",
       "      <td>...</td>\n",
       "      <td>...</td>\n",
       "      <td>...</td>\n",
       "      <td>...</td>\n",
       "      <td>...</td>\n",
       "      <td>...</td>\n",
       "    </tr>\n",
       "    <tr>\n",
       "      <th>162</th>\n",
       "      <td>Vanuatu</td>\n",
       "      <td>29.2</td>\n",
       "      <td>46.6</td>\n",
       "      <td>5.25</td>\n",
       "      <td>52.7</td>\n",
       "      <td>2950</td>\n",
       "      <td>2.62</td>\n",
       "      <td>63.0</td>\n",
       "      <td>3.50</td>\n",
       "      <td>2970</td>\n",
       "    </tr>\n",
       "    <tr>\n",
       "      <th>163</th>\n",
       "      <td>Venezuela</td>\n",
       "      <td>17.1</td>\n",
       "      <td>28.5</td>\n",
       "      <td>4.91</td>\n",
       "      <td>17.6</td>\n",
       "      <td>16500</td>\n",
       "      <td>45.90</td>\n",
       "      <td>75.4</td>\n",
       "      <td>2.47</td>\n",
       "      <td>13500</td>\n",
       "    </tr>\n",
       "    <tr>\n",
       "      <th>164</th>\n",
       "      <td>Vietnam</td>\n",
       "      <td>23.3</td>\n",
       "      <td>72.0</td>\n",
       "      <td>6.84</td>\n",
       "      <td>80.2</td>\n",
       "      <td>4490</td>\n",
       "      <td>12.10</td>\n",
       "      <td>73.1</td>\n",
       "      <td>1.95</td>\n",
       "      <td>1310</td>\n",
       "    </tr>\n",
       "    <tr>\n",
       "      <th>165</th>\n",
       "      <td>Yemen</td>\n",
       "      <td>56.3</td>\n",
       "      <td>30.0</td>\n",
       "      <td>5.18</td>\n",
       "      <td>34.4</td>\n",
       "      <td>4480</td>\n",
       "      <td>23.60</td>\n",
       "      <td>67.5</td>\n",
       "      <td>4.67</td>\n",
       "      <td>1310</td>\n",
       "    </tr>\n",
       "    <tr>\n",
       "      <th>166</th>\n",
       "      <td>Zambia</td>\n",
       "      <td>83.1</td>\n",
       "      <td>37.0</td>\n",
       "      <td>5.89</td>\n",
       "      <td>30.9</td>\n",
       "      <td>3280</td>\n",
       "      <td>14.00</td>\n",
       "      <td>52.0</td>\n",
       "      <td>5.40</td>\n",
       "      <td>1460</td>\n",
       "    </tr>\n",
       "  </tbody>\n",
       "</table>\n",
       "<p>167 rows × 10 columns</p>\n",
       "</div>"
      ],
      "text/plain": [
       "                 country  child_mort  exports  health  imports  income  \\\n",
       "0            Afghanistan        90.2     10.0    7.58     44.9    1610   \n",
       "1                Albania        16.6     28.0    6.55     48.6    9930   \n",
       "2                Algeria        27.3     38.4    4.17     31.4   12900   \n",
       "3                 Angola       119.0     62.3    2.85     42.9    5900   \n",
       "4    Antigua and Barbuda        10.3     45.5    6.03     58.9   19100   \n",
       "..                   ...         ...      ...     ...      ...     ...   \n",
       "162              Vanuatu        29.2     46.6    5.25     52.7    2950   \n",
       "163            Venezuela        17.1     28.5    4.91     17.6   16500   \n",
       "164              Vietnam        23.3     72.0    6.84     80.2    4490   \n",
       "165                Yemen        56.3     30.0    5.18     34.4    4480   \n",
       "166               Zambia        83.1     37.0    5.89     30.9    3280   \n",
       "\n",
       "     inflation  life_expec  total_fer   gdpp  \n",
       "0         9.44        56.2       5.82    553  \n",
       "1         4.49        76.3       1.65   4090  \n",
       "2        16.10        76.5       2.89   4460  \n",
       "3        22.40        60.1       6.16   3530  \n",
       "4         1.44        76.8       2.13  12200  \n",
       "..         ...         ...        ...    ...  \n",
       "162       2.62        63.0       3.50   2970  \n",
       "163      45.90        75.4       2.47  13500  \n",
       "164      12.10        73.1       1.95   1310  \n",
       "165      23.60        67.5       4.67   1310  \n",
       "166      14.00        52.0       5.40   1460  \n",
       "\n",
       "[167 rows x 10 columns]"
      ]
     },
     "execution_count": 24,
     "metadata": {},
     "output_type": "execute_result"
    }
   ],
   "source": [
    "import pandas as pd\n",
    "import numpy as np\n",
    "Cdata = pd.read_csv(\"Country-data.csv\")\n",
    "Cdata"
   ]
  },
  {
   "cell_type": "code",
   "execution_count": 25,
   "id": "5eb13b88",
   "metadata": {},
   "outputs": [
    {
     "data": {
      "text/html": [
       "<div>\n",
       "<style scoped>\n",
       "    .dataframe tbody tr th:only-of-type {\n",
       "        vertical-align: middle;\n",
       "    }\n",
       "\n",
       "    .dataframe tbody tr th {\n",
       "        vertical-align: top;\n",
       "    }\n",
       "\n",
       "    .dataframe thead th {\n",
       "        text-align: right;\n",
       "    }\n",
       "</style>\n",
       "<table border=\"1\" class=\"dataframe\">\n",
       "  <thead>\n",
       "    <tr style=\"text-align: right;\">\n",
       "      <th></th>\n",
       "      <th>child_mort</th>\n",
       "      <th>exports</th>\n",
       "      <th>health</th>\n",
       "      <th>imports</th>\n",
       "      <th>income</th>\n",
       "      <th>inflation</th>\n",
       "      <th>life_expec</th>\n",
       "      <th>total_fer</th>\n",
       "      <th>gdpp</th>\n",
       "    </tr>\n",
       "  </thead>\n",
       "  <tbody>\n",
       "    <tr>\n",
       "      <th>0</th>\n",
       "      <td>90.2</td>\n",
       "      <td>10.0</td>\n",
       "      <td>7.58</td>\n",
       "      <td>44.9</td>\n",
       "      <td>1610</td>\n",
       "      <td>9.44</td>\n",
       "      <td>56.2</td>\n",
       "      <td>5.82</td>\n",
       "      <td>553</td>\n",
       "    </tr>\n",
       "    <tr>\n",
       "      <th>1</th>\n",
       "      <td>16.6</td>\n",
       "      <td>28.0</td>\n",
       "      <td>6.55</td>\n",
       "      <td>48.6</td>\n",
       "      <td>9930</td>\n",
       "      <td>4.49</td>\n",
       "      <td>76.3</td>\n",
       "      <td>1.65</td>\n",
       "      <td>4090</td>\n",
       "    </tr>\n",
       "    <tr>\n",
       "      <th>2</th>\n",
       "      <td>27.3</td>\n",
       "      <td>38.4</td>\n",
       "      <td>4.17</td>\n",
       "      <td>31.4</td>\n",
       "      <td>12900</td>\n",
       "      <td>16.10</td>\n",
       "      <td>76.5</td>\n",
       "      <td>2.89</td>\n",
       "      <td>4460</td>\n",
       "    </tr>\n",
       "    <tr>\n",
       "      <th>3</th>\n",
       "      <td>119.0</td>\n",
       "      <td>62.3</td>\n",
       "      <td>2.85</td>\n",
       "      <td>42.9</td>\n",
       "      <td>5900</td>\n",
       "      <td>22.40</td>\n",
       "      <td>60.1</td>\n",
       "      <td>6.16</td>\n",
       "      <td>3530</td>\n",
       "    </tr>\n",
       "    <tr>\n",
       "      <th>4</th>\n",
       "      <td>10.3</td>\n",
       "      <td>45.5</td>\n",
       "      <td>6.03</td>\n",
       "      <td>58.9</td>\n",
       "      <td>19100</td>\n",
       "      <td>1.44</td>\n",
       "      <td>76.8</td>\n",
       "      <td>2.13</td>\n",
       "      <td>12200</td>\n",
       "    </tr>\n",
       "    <tr>\n",
       "      <th>...</th>\n",
       "      <td>...</td>\n",
       "      <td>...</td>\n",
       "      <td>...</td>\n",
       "      <td>...</td>\n",
       "      <td>...</td>\n",
       "      <td>...</td>\n",
       "      <td>...</td>\n",
       "      <td>...</td>\n",
       "      <td>...</td>\n",
       "    </tr>\n",
       "    <tr>\n",
       "      <th>162</th>\n",
       "      <td>29.2</td>\n",
       "      <td>46.6</td>\n",
       "      <td>5.25</td>\n",
       "      <td>52.7</td>\n",
       "      <td>2950</td>\n",
       "      <td>2.62</td>\n",
       "      <td>63.0</td>\n",
       "      <td>3.50</td>\n",
       "      <td>2970</td>\n",
       "    </tr>\n",
       "    <tr>\n",
       "      <th>163</th>\n",
       "      <td>17.1</td>\n",
       "      <td>28.5</td>\n",
       "      <td>4.91</td>\n",
       "      <td>17.6</td>\n",
       "      <td>16500</td>\n",
       "      <td>45.90</td>\n",
       "      <td>75.4</td>\n",
       "      <td>2.47</td>\n",
       "      <td>13500</td>\n",
       "    </tr>\n",
       "    <tr>\n",
       "      <th>164</th>\n",
       "      <td>23.3</td>\n",
       "      <td>72.0</td>\n",
       "      <td>6.84</td>\n",
       "      <td>80.2</td>\n",
       "      <td>4490</td>\n",
       "      <td>12.10</td>\n",
       "      <td>73.1</td>\n",
       "      <td>1.95</td>\n",
       "      <td>1310</td>\n",
       "    </tr>\n",
       "    <tr>\n",
       "      <th>165</th>\n",
       "      <td>56.3</td>\n",
       "      <td>30.0</td>\n",
       "      <td>5.18</td>\n",
       "      <td>34.4</td>\n",
       "      <td>4480</td>\n",
       "      <td>23.60</td>\n",
       "      <td>67.5</td>\n",
       "      <td>4.67</td>\n",
       "      <td>1310</td>\n",
       "    </tr>\n",
       "    <tr>\n",
       "      <th>166</th>\n",
       "      <td>83.1</td>\n",
       "      <td>37.0</td>\n",
       "      <td>5.89</td>\n",
       "      <td>30.9</td>\n",
       "      <td>3280</td>\n",
       "      <td>14.00</td>\n",
       "      <td>52.0</td>\n",
       "      <td>5.40</td>\n",
       "      <td>1460</td>\n",
       "    </tr>\n",
       "  </tbody>\n",
       "</table>\n",
       "<p>167 rows × 9 columns</p>\n",
       "</div>"
      ],
      "text/plain": [
       "     child_mort  exports  health  imports  income  inflation  life_expec  \\\n",
       "0          90.2     10.0    7.58     44.9    1610       9.44        56.2   \n",
       "1          16.6     28.0    6.55     48.6    9930       4.49        76.3   \n",
       "2          27.3     38.4    4.17     31.4   12900      16.10        76.5   \n",
       "3         119.0     62.3    2.85     42.9    5900      22.40        60.1   \n",
       "4          10.3     45.5    6.03     58.9   19100       1.44        76.8   \n",
       "..          ...      ...     ...      ...     ...        ...         ...   \n",
       "162        29.2     46.6    5.25     52.7    2950       2.62        63.0   \n",
       "163        17.1     28.5    4.91     17.6   16500      45.90        75.4   \n",
       "164        23.3     72.0    6.84     80.2    4490      12.10        73.1   \n",
       "165        56.3     30.0    5.18     34.4    4480      23.60        67.5   \n",
       "166        83.1     37.0    5.89     30.9    3280      14.00        52.0   \n",
       "\n",
       "     total_fer   gdpp  \n",
       "0         5.82    553  \n",
       "1         1.65   4090  \n",
       "2         2.89   4460  \n",
       "3         6.16   3530  \n",
       "4         2.13  12200  \n",
       "..         ...    ...  \n",
       "162       3.50   2970  \n",
       "163       2.47  13500  \n",
       "164       1.95   1310  \n",
       "165       4.67   1310  \n",
       "166       5.40   1460  \n",
       "\n",
       "[167 rows x 9 columns]"
      ]
     },
     "execution_count": 25,
     "metadata": {},
     "output_type": "execute_result"
    }
   ],
   "source": [
    "Cdata.drop(labels = [\"country\"], axis = 1, inplace = True)\n",
    "Cdata"
   ]
  },
  {
   "cell_type": "markdown",
   "id": "b48ec6bb",
   "metadata": {},
   "source": [
    "## Correlation of features "
   ]
  },
  {
   "cell_type": "code",
   "execution_count": 27,
   "id": "2aae2f25",
   "metadata": {},
   "outputs": [
    {
     "data": {
      "text/plain": [
       "<AxesSubplot:>"
      ]
     },
     "execution_count": 27,
     "metadata": {},
     "output_type": "execute_result"
    },
    {
     "data": {
      "image/png": "[encoded data removed]",
      "text/plain": [
       "<Figure size 432x288 with 2 Axes>"
      ]
     },
     "metadata": {
      "needs_background": "light"
     },
     "output_type": "display_data"
    }
   ],
   "source": [
    "import seaborn as sb\n",
    "corr = Cdata.corr()\n",
    "sb.heatmap(corr, annot=True)"
   ]
  },
  {
   "cell_type": "code",
   "execution_count": 28,
   "id": "1d45a120",
   "metadata": {},
   "outputs": [
    {
     "data": {
      "text/html": [
       "<div>\n",
       "<style scoped>\n",
       "    .dataframe tbody tr th:only-of-type {\n",
       "        vertical-align: middle;\n",
       "    }\n",
       "\n",
       "    .dataframe tbody tr th {\n",
       "        vertical-align: top;\n",
       "    }\n",
       "\n",
       "    .dataframe thead th {\n",
       "        text-align: right;\n",
       "    }\n",
       "</style>\n",
       "<table border=\"1\" class=\"dataframe\">\n",
       "  <thead>\n",
       "    <tr style=\"text-align: right;\">\n",
       "      <th></th>\n",
       "      <th>child_mort</th>\n",
       "      <th>exports</th>\n",
       "      <th>health</th>\n",
       "      <th>imports</th>\n",
       "      <th>income</th>\n",
       "      <th>inflation</th>\n",
       "      <th>life_expec</th>\n",
       "      <th>total_fer</th>\n",
       "      <th>gdpp</th>\n",
       "    </tr>\n",
       "  </thead>\n",
       "  <tbody>\n",
       "    <tr>\n",
       "      <th>child_mort</th>\n",
       "      <td>NaN</td>\n",
       "      <td>0.318093</td>\n",
       "      <td>0.200402</td>\n",
       "      <td>0.127211</td>\n",
       "      <td>0.524315</td>\n",
       "      <td>0.288276</td>\n",
       "      <td>0.886676</td>\n",
       "      <td>0.848478</td>\n",
       "      <td>0.483032</td>\n",
       "    </tr>\n",
       "    <tr>\n",
       "      <th>exports</th>\n",
       "      <td>NaN</td>\n",
       "      <td>NaN</td>\n",
       "      <td>0.114408</td>\n",
       "      <td>0.737381</td>\n",
       "      <td>0.516784</td>\n",
       "      <td>0.107294</td>\n",
       "      <td>0.316313</td>\n",
       "      <td>0.320011</td>\n",
       "      <td>0.418725</td>\n",
       "    </tr>\n",
       "    <tr>\n",
       "      <th>health</th>\n",
       "      <td>NaN</td>\n",
       "      <td>NaN</td>\n",
       "      <td>NaN</td>\n",
       "      <td>0.095717</td>\n",
       "      <td>0.129579</td>\n",
       "      <td>0.255376</td>\n",
       "      <td>0.210692</td>\n",
       "      <td>0.196674</td>\n",
       "      <td>0.345966</td>\n",
       "    </tr>\n",
       "    <tr>\n",
       "      <th>imports</th>\n",
       "      <td>NaN</td>\n",
       "      <td>NaN</td>\n",
       "      <td>NaN</td>\n",
       "      <td>NaN</td>\n",
       "      <td>0.122406</td>\n",
       "      <td>0.246994</td>\n",
       "      <td>0.054391</td>\n",
       "      <td>0.159048</td>\n",
       "      <td>0.115498</td>\n",
       "    </tr>\n",
       "    <tr>\n",
       "      <th>income</th>\n",
       "      <td>NaN</td>\n",
       "      <td>NaN</td>\n",
       "      <td>NaN</td>\n",
       "      <td>NaN</td>\n",
       "      <td>NaN</td>\n",
       "      <td>0.147756</td>\n",
       "      <td>0.611962</td>\n",
       "      <td>0.501840</td>\n",
       "      <td>0.895571</td>\n",
       "    </tr>\n",
       "    <tr>\n",
       "      <th>inflation</th>\n",
       "      <td>NaN</td>\n",
       "      <td>NaN</td>\n",
       "      <td>NaN</td>\n",
       "      <td>NaN</td>\n",
       "      <td>NaN</td>\n",
       "      <td>NaN</td>\n",
       "      <td>0.239705</td>\n",
       "      <td>0.316921</td>\n",
       "      <td>0.221631</td>\n",
       "    </tr>\n",
       "    <tr>\n",
       "      <th>life_expec</th>\n",
       "      <td>NaN</td>\n",
       "      <td>NaN</td>\n",
       "      <td>NaN</td>\n",
       "      <td>NaN</td>\n",
       "      <td>NaN</td>\n",
       "      <td>NaN</td>\n",
       "      <td>NaN</td>\n",
       "      <td>0.760875</td>\n",
       "      <td>0.600089</td>\n",
       "    </tr>\n",
       "    <tr>\n",
       "      <th>total_fer</th>\n",
       "      <td>NaN</td>\n",
       "      <td>NaN</td>\n",
       "      <td>NaN</td>\n",
       "      <td>NaN</td>\n",
       "      <td>NaN</td>\n",
       "      <td>NaN</td>\n",
       "      <td>NaN</td>\n",
       "      <td>NaN</td>\n",
       "      <td>0.454910</td>\n",
       "    </tr>\n",
       "    <tr>\n",
       "      <th>gdpp</th>\n",
       "      <td>NaN</td>\n",
       "      <td>NaN</td>\n",
       "      <td>NaN</td>\n",
       "      <td>NaN</td>\n",
       "      <td>NaN</td>\n",
       "      <td>NaN</td>\n",
       "      <td>NaN</td>\n",
       "      <td>NaN</td>\n",
       "      <td>NaN</td>\n",
       "    </tr>\n",
       "  </tbody>\n",
       "</table>\n",
       "</div>"
      ],
      "text/plain": [
       "            child_mort   exports    health   imports    income  inflation  \\\n",
       "child_mort         NaN  0.318093  0.200402  0.127211  0.524315   0.288276   \n",
       "exports            NaN       NaN  0.114408  0.737381  0.516784   0.107294   \n",
       "health             NaN       NaN       NaN  0.095717  0.129579   0.255376   \n",
       "imports            NaN       NaN       NaN       NaN  0.122406   0.246994   \n",
       "income             NaN       NaN       NaN       NaN       NaN   0.147756   \n",
       "inflation          NaN       NaN       NaN       NaN       NaN        NaN   \n",
       "life_expec         NaN       NaN       NaN       NaN       NaN        NaN   \n",
       "total_fer          NaN       NaN       NaN       NaN       NaN        NaN   \n",
       "gdpp               NaN       NaN       NaN       NaN       NaN        NaN   \n",
       "\n",
       "            life_expec  total_fer      gdpp  \n",
       "child_mort    0.886676   0.848478  0.483032  \n",
       "exports       0.316313   0.320011  0.418725  \n",
       "health        0.210692   0.196674  0.345966  \n",
       "imports       0.054391   0.159048  0.115498  \n",
       "income        0.611962   0.501840  0.895571  \n",
       "inflation     0.239705   0.316921  0.221631  \n",
       "life_expec         NaN   0.760875  0.600089  \n",
       "total_fer          NaN        NaN  0.454910  \n",
       "gdpp               NaN        NaN       NaN  "
      ]
     },
     "execution_count": 28,
     "metadata": {},
     "output_type": "execute_result"
    }
   ],
   "source": [
    "a=corr.abs()\n",
    "upp = a.where(np.triu(np.ones(a.shape),k=1).astype(np.bool_))\n",
    "upp"
   ]
  },
  {
   "cell_type": "markdown",
   "id": "74e29e30",
   "metadata": {},
   "source": [
    "## Features that can be deleted"
   ]
  },
  {
   "cell_type": "code",
   "execution_count": 29,
   "id": "5374508a",
   "metadata": {},
   "outputs": [
    {
     "data": {
      "text/plain": [
       "['life_expec', 'gdpp']"
      ]
     },
     "execution_count": 29,
     "metadata": {},
     "output_type": "execute_result"
    }
   ],
   "source": [
    "drop=[]\n",
    "for i in upp.columns:\n",
    "    if any(upp[i] > 0.85) :\n",
    "        drop.append(i)\n",
    "#Cdata.drop(labels =drop , axis = 1, inplace = True)\n",
    "drop"
   ]
  },
  {
   "cell_type": "markdown",
   "id": "327d6418",
   "metadata": {},
   "source": [
    "## Normalization"
   ]
  },
  {
   "cell_type": "code",
   "execution_count": 31,
   "id": "f7ceb846",
   "metadata": {},
   "outputs": [
    {
     "data": {
      "text/html": [
       "<div>\n",
       "<style scoped>\n",
       "    .dataframe tbody tr th:only-of-type {\n",
       "        vertical-align: middle;\n",
       "    }\n",
       "\n",
       "    .dataframe tbody tr th {\n",
       "        vertical-align: top;\n",
       "    }\n",
       "\n",
       "    .dataframe thead th {\n",
       "        text-align: right;\n",
       "    }\n",
       "</style>\n",
       "<table border=\"1\" class=\"dataframe\">\n",
       "  <thead>\n",
       "    <tr style=\"text-align: right;\">\n",
       "      <th></th>\n",
       "      <th>child_mort</th>\n",
       "      <th>exports</th>\n",
       "      <th>health</th>\n",
       "      <th>imports</th>\n",
       "      <th>income</th>\n",
       "      <th>inflation</th>\n",
       "      <th>life_expec</th>\n",
       "      <th>total_fer</th>\n",
       "      <th>gdpp</th>\n",
       "    </tr>\n",
       "  </thead>\n",
       "  <tbody>\n",
       "    <tr>\n",
       "      <th>0</th>\n",
       "      <td>1.291532</td>\n",
       "      <td>-1.138280</td>\n",
       "      <td>0.279088</td>\n",
       "      <td>-0.082455</td>\n",
       "      <td>-0.808245</td>\n",
       "      <td>0.157336</td>\n",
       "      <td>-1.619092</td>\n",
       "      <td>1.902882</td>\n",
       "      <td>-0.679180</td>\n",
       "    </tr>\n",
       "    <tr>\n",
       "      <th>1</th>\n",
       "      <td>-0.538949</td>\n",
       "      <td>-0.479658</td>\n",
       "      <td>-0.097016</td>\n",
       "      <td>0.070837</td>\n",
       "      <td>-0.375369</td>\n",
       "      <td>-0.312347</td>\n",
       "      <td>0.647866</td>\n",
       "      <td>-0.859973</td>\n",
       "      <td>-0.485623</td>\n",
       "    </tr>\n",
       "    <tr>\n",
       "      <th>2</th>\n",
       "      <td>-0.272833</td>\n",
       "      <td>-0.099122</td>\n",
       "      <td>-0.966073</td>\n",
       "      <td>-0.641762</td>\n",
       "      <td>-0.220844</td>\n",
       "      <td>0.789274</td>\n",
       "      <td>0.670423</td>\n",
       "      <td>-0.038404</td>\n",
       "      <td>-0.465376</td>\n",
       "    </tr>\n",
       "    <tr>\n",
       "      <th>3</th>\n",
       "      <td>2.007808</td>\n",
       "      <td>0.775381</td>\n",
       "      <td>-1.448071</td>\n",
       "      <td>-0.165315</td>\n",
       "      <td>-0.585043</td>\n",
       "      <td>1.387054</td>\n",
       "      <td>-1.179234</td>\n",
       "      <td>2.128151</td>\n",
       "      <td>-0.516268</td>\n",
       "    </tr>\n",
       "    <tr>\n",
       "      <th>4</th>\n",
       "      <td>-0.695634</td>\n",
       "      <td>0.160668</td>\n",
       "      <td>-0.286894</td>\n",
       "      <td>0.497568</td>\n",
       "      <td>0.101732</td>\n",
       "      <td>-0.601749</td>\n",
       "      <td>0.704258</td>\n",
       "      <td>-0.541946</td>\n",
       "      <td>-0.041817</td>\n",
       "    </tr>\n",
       "    <tr>\n",
       "      <th>...</th>\n",
       "      <td>...</td>\n",
       "      <td>...</td>\n",
       "      <td>...</td>\n",
       "      <td>...</td>\n",
       "      <td>...</td>\n",
       "      <td>...</td>\n",
       "      <td>...</td>\n",
       "      <td>...</td>\n",
       "      <td>...</td>\n",
       "    </tr>\n",
       "    <tr>\n",
       "      <th>162</th>\n",
       "      <td>-0.225578</td>\n",
       "      <td>0.200917</td>\n",
       "      <td>-0.571711</td>\n",
       "      <td>0.240700</td>\n",
       "      <td>-0.738527</td>\n",
       "      <td>-0.489784</td>\n",
       "      <td>-0.852161</td>\n",
       "      <td>0.365754</td>\n",
       "      <td>-0.546913</td>\n",
       "    </tr>\n",
       "    <tr>\n",
       "      <th>163</th>\n",
       "      <td>-0.526514</td>\n",
       "      <td>-0.461363</td>\n",
       "      <td>-0.695862</td>\n",
       "      <td>-1.213499</td>\n",
       "      <td>-0.033542</td>\n",
       "      <td>3.616865</td>\n",
       "      <td>0.546361</td>\n",
       "      <td>-0.316678</td>\n",
       "      <td>0.029323</td>\n",
       "    </tr>\n",
       "    <tr>\n",
       "      <th>164</th>\n",
       "      <td>-0.372315</td>\n",
       "      <td>1.130305</td>\n",
       "      <td>0.008877</td>\n",
       "      <td>1.380030</td>\n",
       "      <td>-0.658404</td>\n",
       "      <td>0.409732</td>\n",
       "      <td>0.286958</td>\n",
       "      <td>-0.661206</td>\n",
       "      <td>-0.637754</td>\n",
       "    </tr>\n",
       "    <tr>\n",
       "      <th>165</th>\n",
       "      <td>0.448417</td>\n",
       "      <td>-0.406478</td>\n",
       "      <td>-0.597272</td>\n",
       "      <td>-0.517472</td>\n",
       "      <td>-0.658924</td>\n",
       "      <td>1.500916</td>\n",
       "      <td>-0.344633</td>\n",
       "      <td>1.140944</td>\n",
       "      <td>-0.637754</td>\n",
       "    </tr>\n",
       "    <tr>\n",
       "      <th>166</th>\n",
       "      <td>1.114951</td>\n",
       "      <td>-0.150348</td>\n",
       "      <td>-0.338015</td>\n",
       "      <td>-0.662477</td>\n",
       "      <td>-0.721358</td>\n",
       "      <td>0.590015</td>\n",
       "      <td>-2.092785</td>\n",
       "      <td>1.624609</td>\n",
       "      <td>-0.629546</td>\n",
       "    </tr>\n",
       "  </tbody>\n",
       "</table>\n",
       "<p>167 rows × 9 columns</p>\n",
       "</div>"
      ],
      "text/plain": [
       "     child_mort   exports    health   imports    income  inflation  \\\n",
       "0      1.291532 -1.138280  0.279088 -0.082455 -0.808245   0.157336   \n",
       "1     -0.538949 -0.479658 -0.097016  0.070837 -0.375369  -0.312347   \n",
       "2     -0.272833 -0.099122 -0.966073 -0.641762 -0.220844   0.789274   \n",
       "3      2.007808  0.775381 -1.448071 -0.165315 -0.585043   1.387054   \n",
       "4     -0.695634  0.160668 -0.286894  0.497568  0.101732  -0.601749   \n",
       "..          ...       ...       ...       ...       ...        ...   \n",
       "162   -0.225578  0.200917 -0.571711  0.240700 -0.738527  -0.489784   \n",
       "163   -0.526514 -0.461363 -0.695862 -1.213499 -0.033542   3.616865   \n",
       "164   -0.372315  1.130305  0.008877  1.380030 -0.658404   0.409732   \n",
       "165    0.448417 -0.406478 -0.597272 -0.517472 -0.658924   1.500916   \n",
       "166    1.114951 -0.150348 -0.338015 -0.662477 -0.721358   0.590015   \n",
       "\n",
       "     life_expec  total_fer      gdpp  \n",
       "0     -1.619092   1.902882 -0.679180  \n",
       "1      0.647866  -0.859973 -0.485623  \n",
       "2      0.670423  -0.038404 -0.465376  \n",
       "3     -1.179234   2.128151 -0.516268  \n",
       "4      0.704258  -0.541946 -0.041817  \n",
       "..          ...        ...       ...  \n",
       "162   -0.852161   0.365754 -0.546913  \n",
       "163    0.546361  -0.316678  0.029323  \n",
       "164    0.286958  -0.661206 -0.637754  \n",
       "165   -0.344633   1.140944 -0.637754  \n",
       "166   -2.092785   1.624609 -0.629546  \n",
       "\n",
       "[167 rows x 9 columns]"
      ]
     },
     "execution_count": 31,
     "metadata": {},
     "output_type": "execute_result"
    }
   ],
   "source": [
    "from sklearn.preprocessing import StandardScaler\n",
    "scale=StandardScaler()\n",
    "Cdata=scale.fit_transform(Cdata)\n",
    "Cdata=pd.DataFrame( data = Cdata ,\n",
    "                    columns = [\"child_mort\" , \"exports\", \"health\",\"imports\",\n",
    "                               \"income\" ,\"inflation\",\"life_expec\",\"total_fer\",\"gdpp\"])\n",
    "Cdata"
   ]
  },
  {
   "cell_type": "markdown",
   "id": "283ff3a3",
   "metadata": {},
   "source": [
    "## Kmeans and Elbow for optimal number of clusters"
   ]
  },
  {
   "cell_type": "code",
   "execution_count": 32,
   "id": "d38fcfd4",
   "metadata": {},
   "outputs": [
    {
     "data": {
      "image/png": "[encoded data removed]",
      "text/plain": [
       "<Figure size 432x288 with 1 Axes>"
      ]
     },
     "metadata": {
      "needs_background": "light"
     },
     "output_type": "display_data"
    }
   ],
   "source": [
    "from sklearn.cluster import KMeans\n",
    "import matplotlib.pyplot as plt\n",
    "import warnings\n",
    "warnings.filterwarnings('ignore')\n",
    "inertias = []\n",
    "for k in range(1,10):\n",
    "    model = KMeans(n_clusters=k,random_state=0).fit(Cdata)\n",
    "    inertias.append(model.inertia_)\n",
    "k= range(1,10)\n",
    "plt.plot(k, inertias, 'bx-')\n",
    "plt.xlabel('Values of K')\n",
    "plt.ylabel('Inertia')\n",
    "plt.show()"
   ]
  },
  {
   "cell_type": "markdown",
   "id": "9175b478",
   "metadata": {},
   "source": [
    "## Silhouette score"
   ]
  },
  {
   "cell_type": "code",
   "execution_count": 33,
   "id": "7b7bef95",
   "metadata": {},
   "outputs": [
    {
     "name": "stdout",
     "output_type": "stream",
     "text": [
      "[0.287356689214067, 0.28329575683463126, 0.3021082505899251, 0.22327899566511256, 0.23057357437984735, 0.25179867083491136, 0.22248886492792294, 0.23530641350791914]\n"
     ]
    }
   ],
   "source": [
    "from sklearn.metrics import silhouette_score\n",
    "score=[]\n",
    "for i in range(2,10):\n",
    "    model2 = KMeans(n_clusters=i,random_state=0).fit(Cdata)\n",
    "    clusters=model2.predict(Cdata)\n",
    "    score.append(silhouette_score(Cdata, clusters))\n",
    "print(score)"
   ]
  },
  {
   "cell_type": "markdown",
   "id": "be855cec",
   "metadata": {},
   "source": [
    "## Clustering with optimal number of clusters "
   ]
  },
  {
   "cell_type": "code",
   "execution_count": 34,
   "id": "bb35717b",
   "metadata": {},
   "outputs": [
    {
     "data": {
      "text/plain": [
       "array([1, 0, 0, 1, 0, 0, 0, 2, 2, 0, 0, 0, 0, 0, 0, 2, 0, 1, 0, 0, 0, 0,\n",
       "       0, 2, 0, 1, 1, 0, 1, 2, 0, 1, 1, 0, 0, 0, 1, 1, 1, 0, 1, 0, 2, 0,\n",
       "       2, 0, 0, 0, 0, 1, 1, 0, 0, 2, 2, 1, 1, 0, 2, 1, 2, 0, 0, 1, 1, 0,\n",
       "       1, 0, 2, 0, 0, 0, 1, 2, 2, 2, 0, 2, 0, 0, 1, 1, 2, 0, 1, 0, 0, 1,\n",
       "       1, 0, 0, 3, 0, 1, 1, 0, 0, 1, 3, 1, 0, 0, 0, 0, 0, 0, 1, 0, 1, 0,\n",
       "       2, 2, 1, 1, 2, 0, 1, 0, 0, 0, 0, 0, 2, 2, 0, 0, 1, 0, 0, 1, 0, 0,\n",
       "       1, 3, 0, 2, 0, 1, 2, 2, 0, 0, 1, 0, 2, 2, 0, 1, 0, 1, 1, 0, 0, 0,\n",
       "       0, 1, 0, 2, 2, 2, 0, 0, 0, 0, 0, 1, 1])"
      ]
     },
     "execution_count": 34,
     "metadata": {},
     "output_type": "execute_result"
    }
   ],
   "source": [
    "optimal_model = KMeans(n_clusters=4,random_state=0).fit(Cdata)\n",
    "clusters=optimal_model.predict(Cdata)\n",
    "clusters"
   ]
  },
  {
   "cell_type": "markdown",
   "id": "a642c6a0",
   "metadata": {},
   "source": [
    "## Draw Scatter plot of three features two by two"
   ]
  },
  {
   "cell_type": "code",
   "execution_count": 35,
   "id": "e2bdf5f1",
   "metadata": {},
   "outputs": [
    {
     "data": {
      "text/plain": [
       "Text(0, 0.5, 'exports')"
      ]
     },
     "execution_count": 35,
     "metadata": {},
     "output_type": "execute_result"
    },
    {
     "data": {
      "image/png": "[encoded data removed]",
      "text/plain": [
       "<Figure size 432x288 with 2 Axes>"
      ]
     },
     "metadata": {
      "needs_background": "light"
     },
     "output_type": "display_data"
    }
   ],
   "source": [
    "points=plt.scatter(Cdata[\"child_mort\"],Cdata[\"exports\"],c = clusters,cmap=plt.cm.get_cmap('Accent', 4))\n",
    "cb=plt.colorbar(points)\n",
    "cb.set_ticks([0,1,2,3])\n",
    "cb.set_label(label='clusters')\n",
    "plt.xlabel(\"child_mort\")\n",
    "plt.ylabel(\"exports\")"
   ]
  },
  {
   "cell_type": "code",
   "execution_count": 36,
   "id": "25391b1b",
   "metadata": {},
   "outputs": [
    {
     "data": {
      "text/plain": [
       "Text(0, 0.5, 'income')"
      ]
     },
     "execution_count": 36,
     "metadata": {},
     "output_type": "execute_result"
    },
    {
     "data": {
      "image/png": "[encoded data removed]",
      "text/plain": [
       "<Figure size 432x288 with 2 Axes>"
      ]
     },
     "metadata": {
      "needs_background": "light"
     },
     "output_type": "display_data"
    }
   ],
   "source": [
    "points=plt.scatter(Cdata[\"exports\"],Cdata[\"income\"],c= clusters,cmap=plt.cm.get_cmap('Accent', 4))\n",
    "cb=plt.colorbar(points)\n",
    "cb.set_ticks([0,1,2,3])\n",
    "cb.set_label(label='clusters')\n",
    "plt.xlabel(\"exports\")\n",
    "plt.ylabel(\"income\")"
   ]
  },
  {
   "cell_type": "code",
   "execution_count": 37,
   "id": "0de1cb4b",
   "metadata": {},
   "outputs": [
    {
     "data": {
      "text/plain": [
       "Text(0, 0.5, 'income')"
      ]
     },
     "execution_count": 37,
     "metadata": {},
     "output_type": "execute_result"
    },
    {
     "data": {
      "image/png": "[encoded data removed]",
      "text/plain": [
       "<Figure size 432x288 with 2 Axes>"
      ]
     },
     "metadata": {
      "needs_background": "light"
     },
     "output_type": "display_data"
    }
   ],
   "source": [
    "points=plt.scatter(Cdata[\"child_mort\"],Cdata[\"income\"],c=clusters,cmap=plt.cm.get_cmap('Accent', 4))\n",
    "cb=plt.colorbar(points)\n",
    "cb.set_ticks([0,1,2,3])\n",
    "cb.set_label(label='clusters')\n",
    "plt.xlabel(\"child_mort\")\n",
    "plt.ylabel(\"income\")"
   ]
  },
  {
   "cell_type": "markdown",
   "id": "1ebbcf42",
   "metadata": {},
   "source": [
    "# Part 2"
   ]
  },
  {
   "cell_type": "markdown",
   "id": "958af18c",
   "metadata": {},
   "source": [
    "## PCA"
   ]
  },
  {
   "cell_type": "code",
   "execution_count": 38,
   "id": "bb31fa80",
   "metadata": {},
   "outputs": [
    {
     "data": {
      "text/html": [
       "<div>\n",
       "<style scoped>\n",
       "    .dataframe tbody tr th:only-of-type {\n",
       "        vertical-align: middle;\n",
       "    }\n",
       "\n",
       "    .dataframe tbody tr th {\n",
       "        vertical-align: top;\n",
       "    }\n",
       "\n",
       "    .dataframe thead th {\n",
       "        text-align: right;\n",
       "    }\n",
       "</style>\n",
       "<table border=\"1\" class=\"dataframe\">\n",
       "  <thead>\n",
       "    <tr style=\"text-align: right;\">\n",
       "      <th></th>\n",
       "      <th>C1</th>\n",
       "      <th>C2</th>\n",
       "      <th>C3</th>\n",
       "      <th>C4</th>\n",
       "      <th>C5</th>\n",
       "      <th>C6</th>\n",
       "      <th>C7</th>\n",
       "      <th>C8</th>\n",
       "      <th>C9</th>\n",
       "    </tr>\n",
       "  </thead>\n",
       "  <tbody>\n",
       "    <tr>\n",
       "      <th>0</th>\n",
       "      <td>-2.913025</td>\n",
       "      <td>0.095621</td>\n",
       "      <td>-0.718118</td>\n",
       "      <td>1.005255</td>\n",
       "      <td>-0.158310</td>\n",
       "      <td>-0.254597</td>\n",
       "      <td>0.383000</td>\n",
       "      <td>0.415076</td>\n",
       "      <td>-0.014148</td>\n",
       "    </tr>\n",
       "    <tr>\n",
       "      <th>1</th>\n",
       "      <td>0.429911</td>\n",
       "      <td>-0.588156</td>\n",
       "      <td>-0.333486</td>\n",
       "      <td>-1.161059</td>\n",
       "      <td>0.174677</td>\n",
       "      <td>0.084579</td>\n",
       "      <td>0.248919</td>\n",
       "      <td>-0.221042</td>\n",
       "      <td>0.173316</td>\n",
       "    </tr>\n",
       "    <tr>\n",
       "      <th>2</th>\n",
       "      <td>-0.285225</td>\n",
       "      <td>-0.455174</td>\n",
       "      <td>1.221505</td>\n",
       "      <td>-0.868115</td>\n",
       "      <td>0.156475</td>\n",
       "      <td>-0.401696</td>\n",
       "      <td>-0.087214</td>\n",
       "      <td>-0.184162</td>\n",
       "      <td>0.084037</td>\n",
       "    </tr>\n",
       "    <tr>\n",
       "      <th>3</th>\n",
       "      <td>-2.932423</td>\n",
       "      <td>1.695555</td>\n",
       "      <td>1.525044</td>\n",
       "      <td>0.839625</td>\n",
       "      <td>-0.273209</td>\n",
       "      <td>-0.547996</td>\n",
       "      <td>-0.440835</td>\n",
       "      <td>-0.355998</td>\n",
       "      <td>-0.091339</td>\n",
       "    </tr>\n",
       "    <tr>\n",
       "      <th>4</th>\n",
       "      <td>1.033576</td>\n",
       "      <td>0.136659</td>\n",
       "      <td>-0.225721</td>\n",
       "      <td>-0.847063</td>\n",
       "      <td>-0.193007</td>\n",
       "      <td>-0.206919</td>\n",
       "      <td>0.241978</td>\n",
       "      <td>-0.023681</td>\n",
       "      <td>0.094270</td>\n",
       "    </tr>\n",
       "    <tr>\n",
       "      <th>...</th>\n",
       "      <td>...</td>\n",
       "      <td>...</td>\n",
       "      <td>...</td>\n",
       "      <td>...</td>\n",
       "      <td>...</td>\n",
       "      <td>...</td>\n",
       "      <td>...</td>\n",
       "      <td>...</td>\n",
       "      <td>...</td>\n",
       "    </tr>\n",
       "    <tr>\n",
       "      <th>162</th>\n",
       "      <td>-0.820631</td>\n",
       "      <td>0.639570</td>\n",
       "      <td>-0.389923</td>\n",
       "      <td>-0.706595</td>\n",
       "      <td>-0.395748</td>\n",
       "      <td>0.009059</td>\n",
       "      <td>-0.098738</td>\n",
       "      <td>0.521886</td>\n",
       "      <td>-0.497803</td>\n",
       "    </tr>\n",
       "    <tr>\n",
       "      <th>163</th>\n",
       "      <td>-0.551036</td>\n",
       "      <td>-1.233886</td>\n",
       "      <td>3.101350</td>\n",
       "      <td>-0.115311</td>\n",
       "      <td>2.082581</td>\n",
       "      <td>0.097274</td>\n",
       "      <td>0.206735</td>\n",
       "      <td>-0.078805</td>\n",
       "      <td>-0.275735</td>\n",
       "    </tr>\n",
       "    <tr>\n",
       "      <th>164</th>\n",
       "      <td>0.498524</td>\n",
       "      <td>1.390744</td>\n",
       "      <td>-0.238526</td>\n",
       "      <td>-1.074098</td>\n",
       "      <td>1.176081</td>\n",
       "      <td>0.051607</td>\n",
       "      <td>-0.143627</td>\n",
       "      <td>-0.217590</td>\n",
       "      <td>-0.036522</td>\n",
       "    </tr>\n",
       "    <tr>\n",
       "      <th>165</th>\n",
       "      <td>-1.887451</td>\n",
       "      <td>-0.109453</td>\n",
       "      <td>1.109752</td>\n",
       "      <td>0.056257</td>\n",
       "      <td>0.618365</td>\n",
       "      <td>-0.540917</td>\n",
       "      <td>0.060256</td>\n",
       "      <td>0.089495</td>\n",
       "      <td>-0.096049</td>\n",
       "    </tr>\n",
       "    <tr>\n",
       "      <th>166</th>\n",
       "      <td>-2.864064</td>\n",
       "      <td>0.485998</td>\n",
       "      <td>0.223167</td>\n",
       "      <td>0.816364</td>\n",
       "      <td>-0.274068</td>\n",
       "      <td>0.201378</td>\n",
       "      <td>-0.442185</td>\n",
       "      <td>0.664338</td>\n",
       "      <td>-0.441482</td>\n",
       "    </tr>\n",
       "  </tbody>\n",
       "</table>\n",
       "<p>167 rows × 9 columns</p>\n",
       "</div>"
      ],
      "text/plain": [
       "           C1        C2        C3        C4        C5        C6        C7  \\\n",
       "0   -2.913025  0.095621 -0.718118  1.005255 -0.158310 -0.254597  0.383000   \n",
       "1    0.429911 -0.588156 -0.333486 -1.161059  0.174677  0.084579  0.248919   \n",
       "2   -0.285225 -0.455174  1.221505 -0.868115  0.156475 -0.401696 -0.087214   \n",
       "3   -2.932423  1.695555  1.525044  0.839625 -0.273209 -0.547996 -0.440835   \n",
       "4    1.033576  0.136659 -0.225721 -0.847063 -0.193007 -0.206919  0.241978   \n",
       "..        ...       ...       ...       ...       ...       ...       ...   \n",
       "162 -0.820631  0.639570 -0.389923 -0.706595 -0.395748  0.009059 -0.098738   \n",
       "163 -0.551036 -1.233886  3.101350 -0.115311  2.082581  0.097274  0.206735   \n",
       "164  0.498524  1.390744 -0.238526 -1.074098  1.176081  0.051607 -0.143627   \n",
       "165 -1.887451 -0.109453  1.109752  0.056257  0.618365 -0.540917  0.060256   \n",
       "166 -2.864064  0.485998  0.223167  0.816364 -0.274068  0.201378 -0.442185   \n",
       "\n",
       "           C8        C9  \n",
       "0    0.415076 -0.014148  \n",
       "1   -0.221042  0.173316  \n",
       "2   -0.184162  0.084037  \n",
       "3   -0.355998 -0.091339  \n",
       "4   -0.023681  0.094270  \n",
       "..        ...       ...  \n",
       "162  0.521886 -0.497803  \n",
       "163 -0.078805 -0.275735  \n",
       "164 -0.217590 -0.036522  \n",
       "165  0.089495 -0.096049  \n",
       "166  0.664338 -0.441482  \n",
       "\n",
       "[167 rows x 9 columns]"
      ]
     },
     "execution_count": 38,
     "metadata": {},
     "output_type": "execute_result"
    }
   ],
   "source": [
    "from sklearn.decomposition import PCA\n",
    "pca_model = PCA()\n",
    "Cdata_pca = pca_model.fit_transform(Cdata)\n",
    "Cdata_pca=pd.DataFrame( data = Cdata_pca ,\n",
    "                    columns = [\"C1\" , \"C2\", \"C3\",\"C4\",\"C5\" ,\"C6\",\"C7\",\"C8\",\"C9\"])\n",
    "Cdata_pca"
   ]
  },
  {
   "cell_type": "markdown",
   "id": "79eb9884",
   "metadata": {},
   "source": [
    "## Percentage of Explained Variance"
   ]
  },
  {
   "cell_type": "code",
   "execution_count": 39,
   "id": "e8fd35ea",
   "metadata": {},
   "outputs": [
    {
     "name": "stdout",
     "output_type": "stream",
     "text": [
      "[0.4595174  0.17181626 0.13004259 0.11053162 0.07340211 0.02484235\n",
      " 0.0126043  0.00981282 0.00743056]\n",
      "[0.4595174  0.63133365 0.76137624 0.87190786 0.94530998 0.97015232\n",
      " 0.98275663 0.99256944 1.        ]\n"
     ]
    },
    {
     "data": {
      "image/png": "[encoded data removed]",
      "text/plain": [
       "<Figure size 432x288 with 1 Axes>"
      ]
     },
     "metadata": {
      "needs_background": "light"
     },
     "output_type": "display_data"
    }
   ],
   "source": [
    "evr=pca_model.explained_variance_ratio_\n",
    "evrsum=pca_model.explained_variance_ratio_.cumsum()\n",
    "print(evr)\n",
    "print(evrsum)\n",
    "plt.step(range(1,len(evrsum)+1), evrsum)\n",
    "plt.ylabel('Percentage of Explained variance')\n",
    "plt.xlabel('Principal component index')\n",
    "plt.show()"
   ]
  },
  {
   "cell_type": "markdown",
   "id": "38f9b141",
   "metadata": {},
   "source": [
    "## Reducing dimention"
   ]
  },
  {
   "cell_type": "code",
   "execution_count": 40,
   "id": "81e1c91b",
   "metadata": {},
   "outputs": [
    {
     "data": {
      "text/html": [
       "<div>\n",
       "<style scoped>\n",
       "    .dataframe tbody tr th:only-of-type {\n",
       "        vertical-align: middle;\n",
       "    }\n",
       "\n",
       "    .dataframe tbody tr th {\n",
       "        vertical-align: top;\n",
       "    }\n",
       "\n",
       "    .dataframe thead th {\n",
       "        text-align: right;\n",
       "    }\n",
       "</style>\n",
       "<table border=\"1\" class=\"dataframe\">\n",
       "  <thead>\n",
       "    <tr style=\"text-align: right;\">\n",
       "      <th></th>\n",
       "      <th>C1</th>\n",
       "      <th>C2</th>\n",
       "      <th>C3</th>\n",
       "    </tr>\n",
       "  </thead>\n",
       "  <tbody>\n",
       "    <tr>\n",
       "      <th>0</th>\n",
       "      <td>-2.913025</td>\n",
       "      <td>0.095621</td>\n",
       "      <td>-0.718118</td>\n",
       "    </tr>\n",
       "    <tr>\n",
       "      <th>1</th>\n",
       "      <td>0.429911</td>\n",
       "      <td>-0.588156</td>\n",
       "      <td>-0.333486</td>\n",
       "    </tr>\n",
       "    <tr>\n",
       "      <th>2</th>\n",
       "      <td>-0.285225</td>\n",
       "      <td>-0.455174</td>\n",
       "      <td>1.221505</td>\n",
       "    </tr>\n",
       "    <tr>\n",
       "      <th>3</th>\n",
       "      <td>-2.932423</td>\n",
       "      <td>1.695555</td>\n",
       "      <td>1.525044</td>\n",
       "    </tr>\n",
       "    <tr>\n",
       "      <th>4</th>\n",
       "      <td>1.033576</td>\n",
       "      <td>0.136659</td>\n",
       "      <td>-0.225721</td>\n",
       "    </tr>\n",
       "    <tr>\n",
       "      <th>...</th>\n",
       "      <td>...</td>\n",
       "      <td>...</td>\n",
       "      <td>...</td>\n",
       "    </tr>\n",
       "    <tr>\n",
       "      <th>162</th>\n",
       "      <td>-0.820631</td>\n",
       "      <td>0.639570</td>\n",
       "      <td>-0.389923</td>\n",
       "    </tr>\n",
       "    <tr>\n",
       "      <th>163</th>\n",
       "      <td>-0.551036</td>\n",
       "      <td>-1.233886</td>\n",
       "      <td>3.101350</td>\n",
       "    </tr>\n",
       "    <tr>\n",
       "      <th>164</th>\n",
       "      <td>0.498524</td>\n",
       "      <td>1.390744</td>\n",
       "      <td>-0.238526</td>\n",
       "    </tr>\n",
       "    <tr>\n",
       "      <th>165</th>\n",
       "      <td>-1.887451</td>\n",
       "      <td>-0.109453</td>\n",
       "      <td>1.109752</td>\n",
       "    </tr>\n",
       "    <tr>\n",
       "      <th>166</th>\n",
       "      <td>-2.864064</td>\n",
       "      <td>0.485998</td>\n",
       "      <td>0.223167</td>\n",
       "    </tr>\n",
       "  </tbody>\n",
       "</table>\n",
       "<p>167 rows × 3 columns</p>\n",
       "</div>"
      ],
      "text/plain": [
       "           C1        C2        C3\n",
       "0   -2.913025  0.095621 -0.718118\n",
       "1    0.429911 -0.588156 -0.333486\n",
       "2   -0.285225 -0.455174  1.221505\n",
       "3   -2.932423  1.695555  1.525044\n",
       "4    1.033576  0.136659 -0.225721\n",
       "..        ...       ...       ...\n",
       "162 -0.820631  0.639570 -0.389923\n",
       "163 -0.551036 -1.233886  3.101350\n",
       "164  0.498524  1.390744 -0.238526\n",
       "165 -1.887451 -0.109453  1.109752\n",
       "166 -2.864064  0.485998  0.223167\n",
       "\n",
       "[167 rows x 3 columns]"
      ]
     },
     "execution_count": 40,
     "metadata": {},
     "output_type": "execute_result"
    }
   ],
   "source": [
    "from sklearn.decomposition import PCA\n",
    "pca_model_reduced = PCA(n_components=3)\n",
    "Cdata_pca_reduced = pca_model_reduced.fit_transform(Cdata)\n",
    "Cdata_pca_reduced =pd.DataFrame( data = Cdata_pca_reduced ,\n",
    "                    columns = [\"C1\" , \"C2\", \"C3\"])\n",
    "Cdata_pca_reduced"
   ]
  },
  {
   "cell_type": "markdown",
   "id": "629f4ef6",
   "metadata": {},
   "source": [
    "## Kmean and Elbow for reduced data"
   ]
  },
  {
   "cell_type": "code",
   "execution_count": 41,
   "id": "774b73b4",
   "metadata": {},
   "outputs": [
    {
     "data": {
      "image/png": "[encoded data removed]",
      "text/plain": [
       "<Figure size 432x288 with 1 Axes>"
      ]
     },
     "metadata": {
      "needs_background": "light"
     },
     "output_type": "display_data"
    }
   ],
   "source": [
    "from sklearn.cluster import KMeans\n",
    "import matplotlib.pyplot as plt\n",
    "import warnings\n",
    "warnings.filterwarnings('ignore')\n",
    "inertias = []\n",
    "for k in range(1,10):\n",
    "    model = KMeans(n_clusters=k,random_state=0).fit(Cdata_pca_reduced)\n",
    "    inertias.append(model.inertia_)\n",
    "k= range(1,10)\n",
    "plt.plot(k, inertias, 'bx-')\n",
    "plt.xlabel('Values of K')\n",
    "plt.ylabel('Inertia')\n",
    "plt.show()"
   ]
  },
  {
   "cell_type": "markdown",
   "id": "23fd0e36",
   "metadata": {},
   "source": [
    "## Silhouette score for reduced data"
   ]
  },
  {
   "cell_type": "code",
   "execution_count": 42,
   "id": "b35f0da3",
   "metadata": {},
   "outputs": [
    {
     "name": "stdout",
     "output_type": "stream",
     "text": [
      "[0.3486469452367987, 0.36897078470659267, 0.3015307702202774, 0.2902046922169579, 0.30662407498060545, 0.29883706072445276, 0.2980687323252884, 0.3089946701583465]\n"
     ]
    }
   ],
   "source": [
    "from sklearn.metrics import silhouette_score\n",
    "score=[]\n",
    "for i in range(2,10):\n",
    "    model2 = KMeans(n_clusters=i,random_state=0).fit(Cdata_pca_reduced)\n",
    "    clusters=model2.predict(Cdata_pca_reduced)\n",
    "    score.append(silhouette_score(Cdata_pca_reduced, clusters))\n",
    "print(score)"
   ]
  },
  {
   "cell_type": "markdown",
   "id": "f5f0b595",
   "metadata": {},
   "source": [
    "## Kmeans clustering with optimal number of clusters for reduced data"
   ]
  },
  {
   "cell_type": "code",
   "execution_count": 43,
   "id": "0e2fce6f",
   "metadata": {},
   "outputs": [
    {
     "data": {
      "text/plain": [
       "array([1, 0, 0, 1, 0, 0, 0, 0, 0, 0, 0, 0, 1, 0, 0, 0, 0, 1, 1, 1, 0, 1,\n",
       "       0, 0, 0, 1, 1, 1, 1, 0, 0, 1, 1, 0, 0, 0, 1, 1, 1, 0, 1, 0, 0, 0,\n",
       "       0, 0, 0, 1, 0, 1, 1, 0, 1, 0, 0, 1, 1, 0, 0, 1, 0, 0, 1, 1, 1, 1,\n",
       "       1, 0, 0, 1, 1, 0, 1, 0, 0, 0, 0, 0, 0, 0, 1, 1, 0, 1, 1, 0, 0, 1,\n",
       "       1, 0, 0, 2, 0, 1, 1, 0, 0, 1, 2, 1, 0, 1, 0, 1, 0, 0, 1, 1, 1, 1,\n",
       "       0, 0, 1, 1, 0, 0, 1, 0, 0, 0, 1, 0, 0, 0, 0, 0, 1, 1, 0, 1, 0, 0,\n",
       "       1, 2, 0, 0, 1, 1, 0, 0, 0, 0, 1, 0, 0, 0, 1, 1, 0, 1, 1, 1, 0, 0,\n",
       "       1, 1, 0, 0, 0, 0, 0, 1, 1, 0, 0, 1, 1])"
      ]
     },
     "execution_count": 43,
     "metadata": {},
     "output_type": "execute_result"
    }
   ],
   "source": [
    "reduced_model_kmean = KMeans(n_clusters=3).fit(Cdata_pca_reduced)\n",
    "clusters=reduced_model_kmean.predict(Cdata_pca_reduced)\n",
    "clusters"
   ]
  },
  {
   "cell_type": "markdown",
   "id": "ee229efb",
   "metadata": {},
   "source": [
    "## Draw Scatter plot of three features two by two "
   ]
  },
  {
   "cell_type": "code",
   "execution_count": 44,
   "id": "3fe6b932",
   "metadata": {},
   "outputs": [
    {
     "data": {
      "text/plain": [
       "Text(0, 0.5, 'C2')"
      ]
     },
     "execution_count": 44,
     "metadata": {},
     "output_type": "execute_result"
    },
    {
     "data": {
      "image/png": "[encoded data removed]",
      "text/plain": [
       "<Figure size 432x288 with 2 Axes>"
      ]
     },
     "metadata": {
      "needs_background": "light"
     },
     "output_type": "display_data"
    }
   ],
   "source": [
    "points=plt.scatter(Cdata_pca_reduced[\"C1\"],Cdata_pca_reduced[\"C2\"],c = clusters,cmap=plt.cm.get_cmap('plasma', 3))\n",
    "cb=plt.colorbar(points)\n",
    "cb.set_ticks([0,1,2])\n",
    "cb.set_label(label='clusters')\n",
    "plt.xlabel(\"C1\")\n",
    "plt.ylabel(\"C2\")"
   ]
  },
  {
   "cell_type": "code",
   "execution_count": 45,
   "id": "e76abee2",
   "metadata": {},
   "outputs": [
    {
     "data": {
      "text/plain": [
       "Text(0, 0.5, 'C3')"
      ]
     },
     "execution_count": 45,
     "metadata": {},
     "output_type": "execute_result"
    },
    {
     "data": {
      "image/png": "[encoded data removed]",
      "text/plain": [
       "<Figure size 432x288 with 2 Axes>"
      ]
     },
     "metadata": {
      "needs_background": "light"
     },
     "output_type": "display_data"
    }
   ],
   "source": [
    "points=plt.scatter(Cdata_pca_reduced[\"C2\"],Cdata_pca_reduced[\"C3\"],c = clusters,cmap=plt.cm.get_cmap('plasma', 3))\n",
    "cb=plt.colorbar(points)\n",
    "cb.set_ticks([0,1,2])\n",
    "cb.set_label(label='clusters')\n",
    "plt.xlabel(\"C2\")\n",
    "plt.ylabel(\"C3\")"
   ]
  },
  {
   "cell_type": "code",
   "execution_count": 46,
   "id": "0981fdf2",
   "metadata": {},
   "outputs": [
    {
     "data": {
      "text/plain": [
       "Text(0, 0.5, 'C3')"
      ]
     },
     "execution_count": 46,
     "metadata": {},
     "output_type": "execute_result"
    },
    {
     "data": {
      "image/png": "[encoded data removed]",
      "text/plain": [
       "<Figure size 432x288 with 2 Axes>"
      ]
     },
     "metadata": {
      "needs_background": "light"
     },
     "output_type": "display_data"
    }
   ],
   "source": [
    "points=plt.scatter(Cdata_pca_reduced[\"C1\"],Cdata_pca_reduced[\"C3\"],c = clusters,cmap=plt.cm.get_cmap('plasma', 3))\n",
    "cb=plt.colorbar(points)\n",
    "cb.set_ticks([0,1,2])\n",
    "cb.set_label(label='clusters')\n",
    "plt.xlabel(\"C1\")\n",
    "plt.ylabel(\"C3\")"
   ]
  },
  {
   "cell_type": "code",
   "execution_count": null,
   "id": "45e15496",
   "metadata": {},
   "outputs": [],
   "source": []
  }
 ],
 "metadata": {
  "kernelspec": {
   "display_name": "Python 3 (ipykernel)",
   "language": "python",
   "name": "python3"
  },
  "language_info": {
   "codemirror_mode": {
    "name": "ipython",
    "version": 3
   },
   "file_extension": ".py",
   "mimetype": "text/x-python",
   "name": "python",
   "nbconvert_exporter": "python",
   "pygments_lexer": "ipython3",
   "version": "3.9.7"
  }
 },
 "nbformat": 4,
 "nbformat_minor": 5
}
